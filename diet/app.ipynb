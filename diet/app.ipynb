{
 "cells": [
  {
   "cell_type": "code",
   "execution_count": 2,
   "metadata": {},
   "outputs": [
    {
     "name": "stdout",
     "output_type": "stream",
     "text": [
      "Defaulting to user installation because normal site-packages is not writeable\n",
      "Collecting flask\n",
      "  Using cached flask-3.0.3-py3-none-any.whl.metadata (3.2 kB)\n",
      "Requirement already satisfied: Werkzeug>=3.0.0 in c:\\users\\prath\\appdata\\local\\packages\\pythonsoftwarefoundation.python.3.12_qbz5n2kfra8p0\\localcache\\local-packages\\python312\\site-packages (from flask) (3.0.2)\n",
      "Requirement already satisfied: Jinja2>=3.1.2 in c:\\users\\prath\\appdata\\local\\packages\\pythonsoftwarefoundation.python.3.12_qbz5n2kfra8p0\\localcache\\local-packages\\python312\\site-packages (from flask) (3.1.3)\n",
      "Collecting itsdangerous>=2.1.2 (from flask)\n",
      "  Using cached itsdangerous-2.2.0-py3-none-any.whl.metadata (1.9 kB)\n",
      "Requirement already satisfied: click>=8.1.3 in c:\\users\\prath\\appdata\\local\\packages\\pythonsoftwarefoundation.python.3.12_qbz5n2kfra8p0\\localcache\\local-packages\\python312\\site-packages (from flask) (8.1.7)\n",
      "Requirement already satisfied: blinker>=1.6.2 in c:\\users\\prath\\appdata\\local\\packages\\pythonsoftwarefoundation.python.3.12_qbz5n2kfra8p0\\localcache\\local-packages\\python312\\site-packages (from flask) (1.7.0)\n",
      "Requirement already satisfied: colorama in c:\\users\\prath\\appdata\\local\\packages\\pythonsoftwarefoundation.python.3.12_qbz5n2kfra8p0\\localcache\\local-packages\\python312\\site-packages (from click>=8.1.3->flask) (0.4.6)\n",
      "Requirement already satisfied: MarkupSafe>=2.0 in c:\\users\\prath\\appdata\\local\\packages\\pythonsoftwarefoundation.python.3.12_qbz5n2kfra8p0\\localcache\\local-packages\\python312\\site-packages (from Jinja2>=3.1.2->flask) (2.1.5)\n",
      "Using cached flask-3.0.3-py3-none-any.whl (101 kB)\n",
      "Using cached itsdangerous-2.2.0-py3-none-any.whl (16 kB)\n",
      "Installing collected packages: itsdangerous, flask\n",
      "Successfully installed flask-3.0.3 itsdangerous-2.2.0\n"
     ]
    }
   ],
   "source": [
    "!pip install flask"
   ]
  },
  {
   "cell_type": "code",
   "execution_count": 3,
   "metadata": {},
   "outputs": [
    {
     "name": "stdout",
     "output_type": "stream",
     "text": [
      " * Serving Flask app '__main__'\n",
      " * Debug mode: on\n"
     ]
    },
    {
     "name": "stderr",
     "output_type": "stream",
     "text": [
      "WARNING: This is a development server. Do not use it in a production deployment. Use a production WSGI server instead.\n",
      " * Running on http://127.0.0.1:5000\n",
      "Press CTRL+C to quit\n",
      " * Restarting with watchdog (windowsapi)\n"
     ]
    },
    {
     "ename": "SystemExit",
     "evalue": "1",
     "output_type": "error",
     "traceback": [
      "An exception has occurred, use %tb to see the full traceback.\n",
      "\u001b[1;31mSystemExit\u001b[0m\u001b[1;31m:\u001b[0m 1\n"
     ]
    },
    {
     "name": "stderr",
     "output_type": "stream",
     "text": [
      "C:\\Users\\Prath\\AppData\\Local\\Packages\\PythonSoftwareFoundation.Python.3.12_qbz5n2kfra8p0\\LocalCache\\local-packages\\Python312\\site-packages\\IPython\\core\\interactiveshell.py:3585: UserWarning: To exit: use 'exit', 'quit', or Ctrl-D.\n",
      "  warn(\"To exit: use 'exit', 'quit', or Ctrl-D.\", stacklevel=1)\n"
     ]
    }
   ],
   "source": [
    "from flask import Flask, render_template, request\n",
    "from pymongo import MongoClient\n",
    "import random\n",
    "\n",
    "# Connect to MongoDB\n",
    "client = MongoClient('mongodb://localhost:27017/')\n",
    "db = client['nutrition_database']  # Replace with your actual database name\n",
    "collection = db['nutrition_data']  # Replace with your actual collection name\n",
    "\n",
    "app = Flask(__name__)\n",
    "\n",
    "# Function to calculate BMR and TDEE\n",
    "def calculate_caloric_intake(age, gender, height, weight, activity_level, disease):\n",
    "    if gender.lower() == 'male':\n",
    "        bmr = 88.362 + (13.397 * weight) + (4.799 * height) - (5.677 * age)\n",
    "    else:\n",
    "        bmr = 447.593 + (9.247 * weight) + (3.098 * height) - (4.330 * age)\n",
    "    \n",
    "    activity_factors = {\n",
    "        'sedentary': 1.2,\n",
    "        'lightly active': 1.375,\n",
    "        'moderately active': 1.55,\n",
    "        'very active': 1.725\n",
    "    }\n",
    "    \n",
    "    tdee = bmr * activity_factors.get(activity_level.lower(), 1.9)\n",
    "    return tdee\n",
    "\n",
    "# Function to generate meal plan\n",
    "def generate_meal_plan(tdee):\n",
    "    # Sample food items from MongoDB based on some criteria (e.g., calories, macronutrients)\n",
    "    breakfast_items = list(collection.aggregate([{ '$sample': { 'size': 5 } }]))\n",
    "    lunch_items = list(collection.aggregate([{ '$sample': { 'size': 5 } }]))\n",
    "    dinner_items = list(collection.aggregate([{ '$sample': { 'size': 5 } }]))\n",
    "    \n",
    "    # Function to format meal plan output\n",
    "    def format_meal_plan(items):\n",
    "        meal_plan = '\\n'.join([f\"{i+1}. {item['name']}\" for i, item in enumerate(items)])\n",
    "        return meal_plan\n",
    "    \n",
    "    # Divide daily caloric intake into three meals\n",
    "    breakfast_calories = tdee * 0.3\n",
    "    lunch_calories = tdee * 0.4\n",
    "    dinner_calories = tdee * 0.3\n",
    "    \n",
    "    # Select food items for each meal\n",
    "    breakfast = format_meal_plan(breakfast_items)\n",
    "    lunch = format_meal_plan(lunch_items)\n",
    "    dinner = format_meal_plan(dinner_items)\n",
    "    \n",
    "    return breakfast, lunch, dinner\n",
    "\n",
    "# Route for home page and meal plan generation\n",
    "@app.route('/', methods=['GET', 'POST'])\n",
    "def home():\n",
    "    if request.method == 'POST':\n",
    "        # Retrieve form data\n",
    "        age = int(request.form['age'])\n",
    "        gender = request.form['gender']\n",
    "        height = int(request.form['height'])\n",
    "        weight = int(request.form['weight'])\n",
    "        activity_level = request.form['activity_level']\n",
    "        disease = request.form['disease']\n",
    "        \n",
    "        # Calculate required caloric intake\n",
    "        tdee = calculate_caloric_intake(age, gender, height, weight, activity_level, disease)\n",
    "        \n",
    "        # Generate meal plan\n",
    "        breakfast, lunch, dinner = generate_meal_plan(tdee)\n",
    "        \n",
    "        # Render template with meal plan results\n",
    "        return render_template('meal_plan.html', \n",
    "                               age=age, gender=gender, height=height, weight=weight,\n",
    "                               activity_level=activity_level, disease=disease,\n",
    "                               breakfast=breakfast, lunch=lunch, dinner=dinner)\n",
    "    \n",
    "    # Render the initial form template\n",
    "    return render_template('index.html')\n",
    "\n",
    "if __name__ == '__main__':\n",
    "    app.run(debug=True)\n"
   ]
  }
 ],
 "metadata": {
  "kernelspec": {
   "display_name": "Python 3",
   "language": "python",
   "name": "python3"
  },
  "language_info": {
   "codemirror_mode": {
    "name": "ipython",
    "version": 3
   },
   "file_extension": ".py",
   "mimetype": "text/x-python",
   "name": "python",
   "nbconvert_exporter": "python",
   "pygments_lexer": "ipython3",
   "version": "3.12.4"
  }
 },
 "nbformat": 4,
 "nbformat_minor": 2
}
